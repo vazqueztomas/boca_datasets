{
 "cells": [
  {
   "cell_type": "code",
   "execution_count": 2,
   "id": "d46ad364",
   "metadata": {},
   "outputs": [],
   "source": [
    "import pandas as pd"
   ]
  },
  {
   "cell_type": "code",
   "execution_count": 3,
   "id": "220bd749",
   "metadata": {},
   "outputs": [],
   "source": [
    "file = pd.read_csv(\"results.csv\")"
   ]
  },
  {
   "cell_type": "code",
   "execution_count": 5,
   "id": "c22da1c7",
   "metadata": {},
   "outputs": [
    {
     "data": {
      "text/html": [
       "<div>\n",
       "<style scoped>\n",
       "    .dataframe tbody tr th:only-of-type {\n",
       "        vertical-align: middle;\n",
       "    }\n",
       "\n",
       "    .dataframe tbody tr th {\n",
       "        vertical-align: top;\n",
       "    }\n",
       "\n",
       "    .dataframe thead th {\n",
       "        text-align: right;\n",
       "    }\n",
       "</style>\n",
       "<table border=\"1\" class=\"dataframe\">\n",
       "  <thead>\n",
       "    <tr style=\"text-align: right;\">\n",
       "      <th></th>\n",
       "      <th>Unnamed: 0</th>\n",
       "      <th>date_name</th>\n",
       "      <th>local_team_id</th>\n",
       "      <th>local_team</th>\n",
       "      <th>local_result</th>\n",
       "      <th>visitor_result</th>\n",
       "      <th>visitor_team</th>\n",
       "      <th>visitor_team_id</th>\n",
       "    </tr>\n",
       "  </thead>\n",
       "  <tbody>\n",
       "    <tr>\n",
       "      <th>0</th>\n",
       "      <td>0</td>\n",
       "      <td>Nacional 1976 - Grupo C</td>\n",
       "      <td>1</td>\n",
       "      <td>All Boys</td>\n",
       "      <td>2</td>\n",
       "      <td>0</td>\n",
       "      <td>Aldosivi</td>\n",
       "      <td>0</td>\n",
       "    </tr>\n",
       "    <tr>\n",
       "      <th>1</th>\n",
       "      <td>1</td>\n",
       "      <td>Nacional 1976 - Grupo C</td>\n",
       "      <td>0</td>\n",
       "      <td>Aldosivi</td>\n",
       "      <td>4</td>\n",
       "      <td>0</td>\n",
       "      <td>All Boys</td>\n",
       "      <td>1</td>\n",
       "    </tr>\n",
       "    <tr>\n",
       "      <th>2</th>\n",
       "      <td>2</td>\n",
       "      <td>Superliga 2019/20 - Fecha 2</td>\n",
       "      <td>0</td>\n",
       "      <td>Aldosivi</td>\n",
       "      <td>0</td>\n",
       "      <td>0</td>\n",
       "      <td>Argentinos</td>\n",
       "      <td>7</td>\n",
       "    </tr>\n",
       "    <tr>\n",
       "      <th>3</th>\n",
       "      <td>3</td>\n",
       "      <td>Superliga 2018/19 - Fecha 15</td>\n",
       "      <td>7</td>\n",
       "      <td>Argentinos</td>\n",
       "      <td>1</td>\n",
       "      <td>2</td>\n",
       "      <td>Aldosivi</td>\n",
       "      <td>0</td>\n",
       "    </tr>\n",
       "    <tr>\n",
       "      <th>4</th>\n",
       "      <td>4</td>\n",
       "      <td>Torneo 2016 - Fecha 2</td>\n",
       "      <td>0</td>\n",
       "      <td>Aldosivi</td>\n",
       "      <td>3</td>\n",
       "      <td>2</td>\n",
       "      <td>Argentinos</td>\n",
       "      <td>7</td>\n",
       "    </tr>\n",
       "  </tbody>\n",
       "</table>\n",
       "</div>"
      ],
      "text/plain": [
       "   Unnamed: 0                     date_name  local_team_id  local_team  \\\n",
       "0           0       Nacional 1976 - Grupo C              1    All Boys   \n",
       "1           1       Nacional 1976 - Grupo C              0    Aldosivi   \n",
       "2           2   Superliga 2019/20 - Fecha 2              0    Aldosivi   \n",
       "3           3  Superliga 2018/19 - Fecha 15              7  Argentinos   \n",
       "4           4         Torneo 2016 - Fecha 2              0    Aldosivi   \n",
       "\n",
       "   local_result  visitor_result visitor_team  visitor_team_id  \n",
       "0             2               0     Aldosivi                0  \n",
       "1             4               0     All Boys                1  \n",
       "2             0               0   Argentinos                7  \n",
       "3             1               2     Aldosivi                0  \n",
       "4             3               2   Argentinos                7  "
      ]
     },
     "execution_count": 5,
     "metadata": {},
     "output_type": "execute_result"
    }
   ],
   "source": [
    "file.head()"
   ]
  },
  {
   "cell_type": "code",
   "execution_count": 10,
   "id": "02842439",
   "metadata": {},
   "outputs": [
    {
     "data": {
      "text/plain": [
       "Index(['Unnamed: 0', 'date_name', 'local_team_id', 'local_team',\n",
       "       'local_result', 'visitor_result', 'visitor_team', 'visitor_team_id'],\n",
       "      dtype='object')"
      ]
     },
     "execution_count": 10,
     "metadata": {},
     "output_type": "execute_result"
    }
   ],
   "source": [
    "file.columns"
   ]
  },
  {
   "cell_type": "code",
   "execution_count": 35,
   "id": "1e90c228",
   "metadata": {
    "scrolled": true
   },
   "outputs": [],
   "source": [
    "df = file.drop(columns=['Unnamed: 0', \"local_team_id\", \"visitor_team_id\"])"
   ]
  },
  {
   "cell_type": "code",
   "execution_count": 42,
   "id": "bde21e65",
   "metadata": {},
   "outputs": [],
   "source": [
    "## filter => boca juniors\n",
    "dropped_list = file.drop(columns=['Unnamed: 0', \"local_team_id\", \"visitor_team_id\"])\n",
    "list_boca = dropped_list[dropped_list[\"local_team\"]== \"Boca Juniors\"]"
   ]
  },
  {
   "cell_type": "code",
   "execution_count": 34,
   "id": "73bb04dd",
   "metadata": {},
   "outputs": [
    {
     "data": {
      "text/html": [
       "<div>\n",
       "<style scoped>\n",
       "    .dataframe tbody tr th:only-of-type {\n",
       "        vertical-align: middle;\n",
       "    }\n",
       "\n",
       "    .dataframe tbody tr th {\n",
       "        vertical-align: top;\n",
       "    }\n",
       "\n",
       "    .dataframe thead th {\n",
       "        text-align: right;\n",
       "    }\n",
       "</style>\n",
       "<table border=\"1\" class=\"dataframe\">\n",
       "  <thead>\n",
       "    <tr style=\"text-align: right;\">\n",
       "      <th></th>\n",
       "      <th>date_name</th>\n",
       "      <th>local_team</th>\n",
       "      <th>local_result</th>\n",
       "      <th>visitor_result</th>\n",
       "      <th>visitor_team</th>\n",
       "    </tr>\n",
       "  </thead>\n",
       "  <tbody>\n",
       "    <tr>\n",
       "      <th>10970</th>\n",
       "      <td>Campeonato 1942 - Fecha 8</td>\n",
       "      <td>Boca Juniors</td>\n",
       "      <td>11</td>\n",
       "      <td>1</td>\n",
       "      <td>Tigre</td>\n",
       "    </tr>\n",
       "  </tbody>\n",
       "</table>\n",
       "</div>"
      ],
      "text/plain": [
       "                       date_name    local_team  local_result  visitor_result  \\\n",
       "10970  Campeonato 1942 - Fecha 8  Boca Juniors            11               1   \n",
       "\n",
       "      visitor_team  \n",
       "10970        Tigre  "
      ]
     },
     "execution_count": 34,
     "metadata": {},
     "output_type": "execute_result"
    }
   ],
   "source": [
    "## mayor goleada de Boca de local\n",
    "mayor_goleada_boca_local = list_boca.sort_values(by=[\"local_result\"], ascending=False).head(1)\n",
    "mayor_goleada_boca_local"
   ]
  },
  {
   "cell_type": "code",
   "execution_count": 41,
   "id": "4e648961",
   "metadata": {},
   "outputs": [
    {
     "data": {
      "text/html": [
       "<div>\n",
       "<style scoped>\n",
       "    .dataframe tbody tr th:only-of-type {\n",
       "        vertical-align: middle;\n",
       "    }\n",
       "\n",
       "    .dataframe tbody tr th {\n",
       "        vertical-align: top;\n",
       "    }\n",
       "\n",
       "    .dataframe thead th {\n",
       "        text-align: right;\n",
       "    }\n",
       "</style>\n",
       "<table border=\"1\" class=\"dataframe\">\n",
       "  <thead>\n",
       "    <tr style=\"text-align: right;\">\n",
       "      <th></th>\n",
       "      <th>date_name</th>\n",
       "      <th>local_team</th>\n",
       "      <th>local_result</th>\n",
       "      <th>visitor_result</th>\n",
       "      <th>visitor_team</th>\n",
       "    </tr>\n",
       "  </thead>\n",
       "  <tbody>\n",
       "    <tr>\n",
       "      <th>8750</th>\n",
       "      <td>Metropolitano 1972 - Fecha 5</td>\n",
       "      <td>Estudiantes (LP)</td>\n",
       "      <td>1</td>\n",
       "      <td>7</td>\n",
       "      <td>Boca Juniors</td>\n",
       "    </tr>\n",
       "    <tr>\n",
       "      <th>9099</th>\n",
       "      <td>Campeonato 1954 - Fecha 30</td>\n",
       "      <td>Gimnasia (LP)</td>\n",
       "      <td>1</td>\n",
       "      <td>7</td>\n",
       "      <td>Boca Juniors</td>\n",
       "    </tr>\n",
       "    <tr>\n",
       "      <th>301</th>\n",
       "      <td>Metropolitano 1973 - Fecha 19</td>\n",
       "      <td>All Boys</td>\n",
       "      <td>1</td>\n",
       "      <td>7</td>\n",
       "      <td>Boca Juniors</td>\n",
       "    </tr>\n",
       "    <tr>\n",
       "      <th>10628</th>\n",
       "      <td>Torneo Apertura 2006 - Fecha 4</td>\n",
       "      <td>San Lorenzo</td>\n",
       "      <td>1</td>\n",
       "      <td>7</td>\n",
       "      <td>Boca Juniors</td>\n",
       "    </tr>\n",
       "  </tbody>\n",
       "</table>\n",
       "</div>"
      ],
      "text/plain": [
       "                            date_name        local_team  local_result  \\\n",
       "8750     Metropolitano 1972 - Fecha 5  Estudiantes (LP)             1   \n",
       "9099       Campeonato 1954 - Fecha 30     Gimnasia (LP)             1   \n",
       "301     Metropolitano 1973 - Fecha 19          All Boys             1   \n",
       "10628  Torneo Apertura 2006 - Fecha 4       San Lorenzo             1   \n",
       "\n",
       "       visitor_result  visitor_team  \n",
       "8750                7  Boca Juniors  \n",
       "9099                7  Boca Juniors  \n",
       "301                 7  Boca Juniors  \n",
       "10628               7  Boca Juniors  "
      ]
     },
     "execution_count": 41,
     "metadata": {},
     "output_type": "execute_result"
    }
   ],
   "source": [
    "## mayor goleada de Boca de visitante\n",
    "list_boca_visitante = df[df[\"visitor_team\"] == \"Boca Juniors\"]\n",
    "list_boca_visitante.sort_values(by=[\"visitor_result\"], ascending=False).head(4)"
   ]
  }
 ],
 "metadata": {
  "kernelspec": {
   "display_name": "Python 3 (ipykernel)",
   "language": "python",
   "name": "python3"
  },
  "language_info": {
   "codemirror_mode": {
    "name": "ipython",
    "version": 3
   },
   "file_extension": ".py",
   "mimetype": "text/x-python",
   "name": "python",
   "nbconvert_exporter": "python",
   "pygments_lexer": "ipython3",
   "version": "3.11.4"
  }
 },
 "nbformat": 4,
 "nbformat_minor": 5
}
